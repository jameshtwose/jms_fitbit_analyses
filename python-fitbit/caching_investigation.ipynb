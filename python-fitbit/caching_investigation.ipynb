{
 "cells": [
  {
   "cell_type": "markdown",
   "id": "ee7e46f8-4836-4dae-ac51-d68b414f8800",
   "metadata": {},
   "source": [
    "# Looking into caching"
   ]
  },
  {
   "cell_type": "code",
   "execution_count": 1,
   "id": "ddb23e51-c7c1-4282-b7e5-1f05ebea6add",
   "metadata": {},
   "outputs": [],
   "source": [
    "import requests"
   ]
  },
  {
   "cell_type": "code",
   "execution_count": 2,
   "id": "b9fcb737-5895-42e7-9e06-bb74a4307e0c",
   "metadata": {},
   "outputs": [],
   "source": [
    "cache = dict()\n",
    "\n",
    "def get_article_from_server(url):\n",
    "    print(\"Fetching article from server...\")\n",
    "    response = requests.get(url)\n",
    "    return response.text\n",
    "\n",
    "def get_article(url):\n",
    "    print(\"Getting article...\")\n",
    "    if url not in cache:\n",
    "        cache[url] = get_article_from_server(url)\n",
    "\n",
    "    return cache[url]"
   ]
  },
  {
   "cell_type": "code",
   "execution_count": 5,
   "id": "cab1519b-11cd-499a-8f45-3eb072ec0778",
   "metadata": {},
   "outputs": [],
   "source": [
    "# get_article(\"https://realpython.com/sorting-algorithms-python/\")\n",
    "# get_article(\"https://realpython.com/sorting-algorithms-python/\")"
   ]
  },
  {
   "cell_type": "code",
   "execution_count": null,
   "id": "5cb72d1f-e863-43fc-a50b-f701fd6eaf59",
   "metadata": {},
   "outputs": [],
   "source": []
  }
 ],
 "metadata": {
  "kernelspec": {
   "display_name": "ds_env2",
   "language": "python",
   "name": "ds_env2"
  },
  "language_info": {
   "codemirror_mode": {
    "name": "ipython",
    "version": 3
   },
   "file_extension": ".py",
   "mimetype": "text/x-python",
   "name": "python",
   "nbconvert_exporter": "python",
   "pygments_lexer": "ipython3",
   "version": "3.9.7"
  }
 },
 "nbformat": 4,
 "nbformat_minor": 5
}
